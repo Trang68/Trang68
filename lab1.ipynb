{
  "nbformat": 4,
  "nbformat_minor": 0,
  "metadata": {
    "colab": {
      "name": "lab1.ipynb",
      "provenance": [],
      "collapsed_sections": [],
      "authorship_tag": "ABX9TyN2RER9+a613bvi7OwpLUXd",
      "include_colab_link": true
    },
    "kernelspec": {
      "name": "python3",
      "display_name": "Python 3"
    },
    "language_info": {
      "name": "python"
    },
    "accelerator": "GPU"
  },
  "cells": [
    {
      "cell_type": "markdown",
      "metadata": {
        "id": "view-in-github",
        "colab_type": "text"
      },
      "source": [
        "<a href=\"https://colab.research.google.com/github/Trang68/Trang68/blob/main/lab1.ipynb\" target=\"_parent\"><img src=\"https://colab.research.google.com/assets/colab-badge.svg\" alt=\"Open In Colab\"/></a>"
      ]
    },
    {
      "cell_type": "code",
      "metadata": {
        "id": "hoCLOmnij4of"
      },
      "source": [
        "import tensorflow as tf\n",
        "mnist = tf.keras.datasets.mnist \n",
        "(training_images, traning_labels),(test_images, test_labels) = mnist.load_data()"
      ],
      "execution_count": 22,
      "outputs": []
    },
    {
      "cell_type": "code",
      "metadata": {
        "id": "NNOQn8Pukr1-"
      },
      "source": [
        "import matplotlib.pyplot as plt"
      ],
      "execution_count": 23,
      "outputs": []
    },
    {
      "cell_type": "code",
      "metadata": {
        "colab": {
          "base_uri": "https://localhost:8080/",
          "height": 282
        },
        "id": "l-t8aCmmlH4l",
        "outputId": "c2eef379-556c-4948-c21a-4c4cc1abfd44"
      },
      "source": [
        "plt.imshow(training_images[0])"
      ],
      "execution_count": 24,
      "outputs": [
        {
          "output_type": "execute_result",
          "data": {
            "text/plain": [
              "<matplotlib.image.AxesImage at 0x7febda673f10>"
            ]
          },
          "metadata": {},
          "execution_count": 24
        },
        {
          "output_type": "display_data",
          "data": {
            "image/png": "[encoded data removed]",
            "text/plain": [
              "<Figure size 432x288 with 1 Axes>"
            ]
          },
          "metadata": {
            "needs_background": "light"
          }
        }
      ]
    },
    {
      "cell_type": "code",
      "metadata": {
        "colab": {
          "base_uri": "https://localhost:8080/"
        },
        "id": "FAJCMuKkliiu",
        "outputId": "6754cef8-030e-498b-b88e-612e1a41022a"
      },
      "source": [
        "training_images.shape     "
      ],
      "execution_count": 25,
      "outputs": [
        {
          "output_type": "execute_result",
          "data": {
            "text/plain": [
              "(60000, 28, 28)"
            ]
          },
          "metadata": {},
          "execution_count": 25
        }
      ]
    },
    {
      "cell_type": "code",
      "metadata": {
        "colab": {
          "base_uri": "https://localhost:8080/"
        },
        "id": "Fb6WsOA-l1OA",
        "outputId": "b7085d7d-4089-4c01-897e-7ea002adf2ce"
      },
      "source": [
        "training_images[0].shape"
      ],
      "execution_count": 26,
      "outputs": [
        {
          "output_type": "execute_result",
          "data": {
            "text/plain": [
              "(28, 28)"
            ]
          },
          "metadata": {},
          "execution_count": 26
        }
      ]
    },
    {
      "cell_type": "code",
      "metadata": {
        "colab": {
          "base_uri": "https://localhost:8080/"
        },
        "id": "OlFB2f5jl5tk",
        "outputId": "38042d71-f792-4aa4-e0be-bdba8a232dfc"
      },
      "source": [
        "traning_labels[0]\n",
        "# we have 10 labels corresponding to 0-9"
      ],
      "execution_count": 28,
      "outputs": [
        {
          "output_type": "execute_result",
          "data": {
            "text/plain": [
              "5"
            ]
          },
          "metadata": {},
          "execution_count": 28
        }
      ]
    },
    {
      "cell_type": "code",
      "metadata": {
        "id": "AIZMs-5Mc9-D"
      },
      "source": [
        "from tensorflow.keras.layers import Conv2D\n",
        "from tensorflow.keras.layers import Activation \n",
        "from tensorflow.keras.layers import MaxPooling2D\n",
        "from tensorflow.keras.layers import Flatten\n",
        "from tensorflow.keras.layers import Dense\n"
      ],
      "execution_count": 29,
      "outputs": []
    },
    {
      "cell_type": "code",
      "metadata": {
        "colab": {
          "base_uri": "https://localhost:8080/"
        },
        "id": "Kj6iGtcheq9f",
        "outputId": "9f46b13d-f375-4b77-b822-24b245bcdcb4"
      },
      "source": [
        "import tensorflow as tf\n",
        "from tensorflow.keras.models import  Sequential\n",
        "\n",
        "model = Sequential()\n",
        "\n",
        "model.add(Conv2D(32,(3,3), activation='relu', input_shape=(28,28,1)))\n",
        "#model.add(Conv2D(32,(3,3), input_shape=(28,28,1)))\n",
        "#model.add(Activation('relu'))\n",
        "\n",
        "model.add(MaxPooling2D((2,2)))\n",
        "\n",
        "model.add(Conv2D(64, (3, 3), activation='relu'))\n",
        "\n",
        "model.add(MaxPooling2D((2,2)))\n",
        "\n",
        "model.add(Flatten())\n",
        "\n",
        "model.add(Dense(128, activation= 'relu'))\n",
        "\n",
        "model.add(Dense(10, activation='Softmax'))\n",
        "\n",
        "model.summary()\n"
      ],
      "execution_count": 32,
      "outputs": [
        {
          "output_type": "stream",
          "name": "stdout",
          "text": [
            "Model: \"sequential_3\"\n",
            "_________________________________________________________________\n",
            "Layer (type)                 Output Shape              Param #   \n",
            "=================================================================\n",
            "conv2d_4 (Conv2D)            (None, 26, 26, 32)        320       \n",
            "_________________________________________________________________\n",
            "max_pooling2d_4 (MaxPooling2 (None, 13, 13, 32)        0         \n",
            "_________________________________________________________________\n",
            "conv2d_5 (Conv2D)            (None, 11, 11, 64)        18496     \n",
            "_________________________________________________________________\n",
            "max_pooling2d_5 (MaxPooling2 (None, 5, 5, 64)          0         \n",
            "_________________________________________________________________\n",
            "flatten_2 (Flatten)          (None, 1600)              0         \n",
            "_________________________________________________________________\n",
            "dense_4 (Dense)              (None, 128)               204928    \n",
            "_________________________________________________________________\n",
            "dense_5 (Dense)              (None, 10)                1290      \n",
            "=================================================================\n",
            "Total params: 225,034\n",
            "Trainable params: 225,034\n",
            "Non-trainable params: 0\n",
            "_________________________________________________________________\n"
          ]
        }
      ]
    },
    {
      "cell_type": "code",
      "metadata": {
        "colab": {
          "base_uri": "https://localhost:8080/"
        },
        "id": "J5UxpFVthxZ0",
        "outputId": "e7022e68-4296-4105-d483-1f46b325f6de"
      },
      "source": [
        "training_images.shape"
      ],
      "execution_count": 33,
      "outputs": [
        {
          "output_type": "execute_result",
          "data": {
            "text/plain": [
              "(60000, 28, 28)"
            ]
          },
          "metadata": {},
          "execution_count": 33
        }
      ]
    },
    {
      "cell_type": "code",
      "metadata": {
        "id": "3sSnrV31h7Ok"
      },
      "source": [
        "training_images = training_images / 255.0\n",
        "training_images = training_images.reshape(60000, 28,28,1)"
      ],
      "execution_count": 34,
      "outputs": []
    },
    {
      "cell_type": "code",
      "metadata": {
        "colab": {
          "base_uri": "https://localhost:8080/"
        },
        "id": "5EFApoXOiT0C",
        "outputId": "9db00342-de2f-464f-cec9-826bc53a9086"
      },
      "source": [
        "test_images.shape"
      ],
      "execution_count": 35,
      "outputs": [
        {
          "output_type": "execute_result",
          "data": {
            "text/plain": [
              "(10000, 28, 28)"
            ]
          },
          "metadata": {},
          "execution_count": 35
        }
      ]
    },
    {
      "cell_type": "code",
      "metadata": {
        "id": "DFv-uVNeiefm"
      },
      "source": [
        "test_images = test_images / 255.0\n",
        "test_images = test_images.reshape(10000, 28,28,1)"
      ],
      "execution_count": 36,
      "outputs": []
    },
    {
      "cell_type": "code",
      "metadata": {
        "colab": {
          "base_uri": "https://localhost:8080/"
        },
        "id": "og6ORcuBi4cn",
        "outputId": "a8b7a45f-538f-4b15-8b38-6e23ac86d3e7"
      },
      "source": [
        "traning_labels.shape"
      ],
      "execution_count": 37,
      "outputs": [
        {
          "output_type": "execute_result",
          "data": {
            "text/plain": [
              "(60000,)"
            ]
          },
          "metadata": {},
          "execution_count": 37
        }
      ]
    },
    {
      "cell_type": "code",
      "metadata": {
        "colab": {
          "base_uri": "https://localhost:8080/"
        },
        "id": "iNMjE1fTjFDc",
        "outputId": "83cc60f9-5a2b-43d4-971c-a73e994f2d7c"
      },
      "source": [
        "traning_labels[0]"
      ],
      "execution_count": 38,
      "outputs": [
        {
          "output_type": "execute_result",
          "data": {
            "text/plain": [
              "5"
            ]
          },
          "metadata": {},
          "execution_count": 38
        }
      ]
    },
    {
      "cell_type": "code",
      "metadata": {
        "colab": {
          "base_uri": "https://localhost:8080/"
        },
        "id": "qDWeMjzIjQKI",
        "outputId": "41767441-1d53-4beb-cada-fa5d8961122d"
      },
      "source": [
        "#add funtion optimizer\n",
        "model.compile(optimizer='adam', loss=\"sparse_categorical_crossentropy\", metrics= ['acc'])\n",
        "#training\n",
        "\n",
        "model.fit(training_images,traning_labels, epochs= 10, validation_data=(test_images,test_labels))\n",
        "\n",
        "#test_acc = model.evaluate(test_images, test_labels, verbose= 2)\n",
        "print('Accuracy: ', acc)"
      ],
      "execution_count": 40,
      "outputs": [
        {
          "output_type": "stream",
          "name": "stdout",
          "text": [
            "Epoch 1/10\n",
            "1875/1875 [==============================] - 11s 6ms/step - loss: 0.0064 - acc: 0.9978 - val_loss: 0.0374 - val_acc: 0.9917\n",
            "Epoch 2/10\n",
            "1875/1875 [==============================] - 11s 6ms/step - loss: 0.0043 - acc: 0.9985 - val_loss: 0.0404 - val_acc: 0.9907\n",
            "Epoch 3/10\n",
            "1875/1875 [==============================] - 11s 6ms/step - loss: 0.0051 - acc: 0.9982 - val_loss: 0.0432 - val_acc: 0.9900\n",
            "Epoch 4/10\n",
            "1875/1875 [==============================] - 10s 5ms/step - loss: 0.0029 - acc: 0.9990 - val_loss: 0.0450 - val_acc: 0.9916\n",
            "Epoch 5/10\n",
            "1875/1875 [==============================] - 10s 6ms/step - loss: 0.0046 - acc: 0.9987 - val_loss: 0.0346 - val_acc: 0.9923\n",
            "Epoch 6/10\n",
            "1875/1875 [==============================] - 10s 5ms/step - loss: 0.0033 - acc: 0.9989 - val_loss: 0.0419 - val_acc: 0.9913\n",
            "Epoch 7/10\n",
            "1875/1875 [==============================] - 11s 6ms/step - loss: 0.0036 - acc: 0.9989 - val_loss: 0.0454 - val_acc: 0.9919\n",
            "Epoch 8/10\n",
            "1875/1875 [==============================] - 10s 6ms/step - loss: 0.0037 - acc: 0.9988 - val_loss: 0.0514 - val_acc: 0.9918\n",
            "Epoch 9/10\n",
            "1875/1875 [==============================] - 11s 6ms/step - loss: 0.0032 - acc: 0.9992 - val_loss: 0.0661 - val_acc: 0.9893\n",
            "Epoch 10/10\n",
            "1875/1875 [==============================] - 11s 6ms/step - loss: 0.0038 - acc: 0.9989 - val_loss: 0.0414 - val_acc: 0.9927\n",
            "313/313 - 1s - loss: 0.0414 - acc: 0.9927\n",
            "Accuracy:  [0.04144550859928131, 0.9926999807357788]\n"
          ]
        }
      ]
    }
  ]
}